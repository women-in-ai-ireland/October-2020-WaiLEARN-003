{
 "cells": [
  {
   "cell_type": "code",
   "execution_count": 41,
   "metadata": {},
   "outputs": [],
   "source": [
    "import pandas as pd\n",
    "import numpy as np\n",
    "import matplotlib.pyplot as plt\n",
    "import seaborn as sns\n",
    "%matplotlib inline"
   ]
  },
  {
   "cell_type": "code",
   "execution_count": 59,
   "metadata": {},
   "outputs": [],
   "source": [
    "pd.set_option('display.max_columns', None)\n",
    "pd.set_option('display.max_rows', None)\n",
    "pd.set_option('display.expand_frame_repr', False)\n",
    "pd.set_option('max_colwidth', 800)"
   ]
  },
  {
   "cell_type": "markdown",
   "metadata": {},
   "source": [
    "# Step 1. Read in Metadata CSV"
   ]
  },
  {
   "cell_type": "code",
   "execution_count": 2,
   "metadata": {},
   "outputs": [],
   "source": [
    "covid_metadata = pd.read_csv('metadata.csv')"
   ]
  },
  {
   "cell_type": "code",
   "execution_count": 3,
   "metadata": {},
   "outputs": [
    {
     "data": {
      "text/plain": [
       "(950, 30)"
      ]
     },
     "execution_count": 3,
     "metadata": {},
     "output_type": "execute_result"
    }
   ],
   "source": [
    "covid_metadata.shape"
   ]
  },
  {
   "cell_type": "code",
   "execution_count": 6,
   "metadata": {},
   "outputs": [
    {
     "data": {
      "text/html": [
       "<div>\n",
       "<style scoped>\n",
       "    .dataframe tbody tr th:only-of-type {\n",
       "        vertical-align: middle;\n",
       "    }\n",
       "\n",
       "    .dataframe tbody tr th {\n",
       "        vertical-align: top;\n",
       "    }\n",
       "\n",
       "    .dataframe thead th {\n",
       "        text-align: right;\n",
       "    }\n",
       "</style>\n",
       "<table border=\"1\" class=\"dataframe\">\n",
       "  <thead>\n",
       "    <tr style=\"text-align: right;\">\n",
       "      <th></th>\n",
       "      <th>patientid</th>\n",
       "      <th>offset</th>\n",
       "      <th>sex</th>\n",
       "      <th>age</th>\n",
       "      <th>finding</th>\n",
       "      <th>RT_PCR_positive</th>\n",
       "      <th>survival</th>\n",
       "      <th>intubated</th>\n",
       "      <th>intubation_present</th>\n",
       "      <th>went_icu</th>\n",
       "      <th>in_icu</th>\n",
       "      <th>needed_supplemental_O2</th>\n",
       "      <th>extubated</th>\n",
       "      <th>temperature</th>\n",
       "      <th>pO2_saturation</th>\n",
       "      <th>leukocyte_count</th>\n",
       "      <th>neutrophil_count</th>\n",
       "      <th>lymphocyte_count</th>\n",
       "      <th>view</th>\n",
       "      <th>modality</th>\n",
       "      <th>date</th>\n",
       "      <th>location</th>\n",
       "      <th>folder</th>\n",
       "      <th>filename</th>\n",
       "      <th>doi</th>\n",
       "      <th>url</th>\n",
       "      <th>license</th>\n",
       "      <th>clinical_notes</th>\n",
       "      <th>other_notes</th>\n",
       "      <th>Unnamed: 29</th>\n",
       "    </tr>\n",
       "  </thead>\n",
       "  <tbody>\n",
       "    <tr>\n",
       "      <th>0</th>\n",
       "      <td>2</td>\n",
       "      <td>0.0</td>\n",
       "      <td>M</td>\n",
       "      <td>65.0</td>\n",
       "      <td>Pneumonia/Viral/COVID-19</td>\n",
       "      <td>Y</td>\n",
       "      <td>Y</td>\n",
       "      <td>N</td>\n",
       "      <td>N</td>\n",
       "      <td>N</td>\n",
       "      <td>N</td>\n",
       "      <td>Y</td>\n",
       "      <td>NaN</td>\n",
       "      <td>NaN</td>\n",
       "      <td>NaN</td>\n",
       "      <td>NaN</td>\n",
       "      <td>NaN</td>\n",
       "      <td>NaN</td>\n",
       "      <td>PA</td>\n",
       "      <td>X-ray</td>\n",
       "      <td>January 22, 2020</td>\n",
       "      <td>Cho Ray Hospital, Ho Chi Minh City, Vietnam</td>\n",
       "      <td>images</td>\n",
       "      <td>auntminnie-a-2020_01_28_23_51_6665_2020_01_28_...</td>\n",
       "      <td>10.1056/nejmc2001272</td>\n",
       "      <td>https://www.nejm.org/doi/full/10.1056/NEJMc200...</td>\n",
       "      <td>NaN</td>\n",
       "      <td>On January 22, 2020, a 65-year-old man with a ...</td>\n",
       "      <td>NaN</td>\n",
       "      <td>NaN</td>\n",
       "    </tr>\n",
       "    <tr>\n",
       "      <th>1</th>\n",
       "      <td>2</td>\n",
       "      <td>3.0</td>\n",
       "      <td>M</td>\n",
       "      <td>65.0</td>\n",
       "      <td>Pneumonia/Viral/COVID-19</td>\n",
       "      <td>Y</td>\n",
       "      <td>Y</td>\n",
       "      <td>N</td>\n",
       "      <td>N</td>\n",
       "      <td>N</td>\n",
       "      <td>N</td>\n",
       "      <td>Y</td>\n",
       "      <td>NaN</td>\n",
       "      <td>NaN</td>\n",
       "      <td>NaN</td>\n",
       "      <td>NaN</td>\n",
       "      <td>NaN</td>\n",
       "      <td>NaN</td>\n",
       "      <td>PA</td>\n",
       "      <td>X-ray</td>\n",
       "      <td>January 25, 2020</td>\n",
       "      <td>Cho Ray Hospital, Ho Chi Minh City, Vietnam</td>\n",
       "      <td>images</td>\n",
       "      <td>auntminnie-b-2020_01_28_23_51_6665_2020_01_28_...</td>\n",
       "      <td>10.1056/nejmc2001272</td>\n",
       "      <td>https://www.nejm.org/doi/full/10.1056/NEJMc200...</td>\n",
       "      <td>NaN</td>\n",
       "      <td>On January 22, 2020, a 65-year-old man with a ...</td>\n",
       "      <td>NaN</td>\n",
       "      <td>NaN</td>\n",
       "    </tr>\n",
       "    <tr>\n",
       "      <th>2</th>\n",
       "      <td>2</td>\n",
       "      <td>5.0</td>\n",
       "      <td>M</td>\n",
       "      <td>65.0</td>\n",
       "      <td>Pneumonia/Viral/COVID-19</td>\n",
       "      <td>Y</td>\n",
       "      <td>Y</td>\n",
       "      <td>N</td>\n",
       "      <td>N</td>\n",
       "      <td>N</td>\n",
       "      <td>N</td>\n",
       "      <td>Y</td>\n",
       "      <td>NaN</td>\n",
       "      <td>NaN</td>\n",
       "      <td>NaN</td>\n",
       "      <td>NaN</td>\n",
       "      <td>NaN</td>\n",
       "      <td>NaN</td>\n",
       "      <td>PA</td>\n",
       "      <td>X-ray</td>\n",
       "      <td>January 27, 2020</td>\n",
       "      <td>Cho Ray Hospital, Ho Chi Minh City, Vietnam</td>\n",
       "      <td>images</td>\n",
       "      <td>auntminnie-c-2020_01_28_23_51_6665_2020_01_28_...</td>\n",
       "      <td>10.1056/nejmc2001272</td>\n",
       "      <td>https://www.nejm.org/doi/full/10.1056/NEJMc200...</td>\n",
       "      <td>NaN</td>\n",
       "      <td>On January 22, 2020, a 65-year-old man with a ...</td>\n",
       "      <td>NaN</td>\n",
       "      <td>NaN</td>\n",
       "    </tr>\n",
       "    <tr>\n",
       "      <th>3</th>\n",
       "      <td>2</td>\n",
       "      <td>6.0</td>\n",
       "      <td>M</td>\n",
       "      <td>65.0</td>\n",
       "      <td>Pneumonia/Viral/COVID-19</td>\n",
       "      <td>Y</td>\n",
       "      <td>Y</td>\n",
       "      <td>N</td>\n",
       "      <td>N</td>\n",
       "      <td>N</td>\n",
       "      <td>N</td>\n",
       "      <td>Y</td>\n",
       "      <td>NaN</td>\n",
       "      <td>NaN</td>\n",
       "      <td>NaN</td>\n",
       "      <td>NaN</td>\n",
       "      <td>NaN</td>\n",
       "      <td>NaN</td>\n",
       "      <td>PA</td>\n",
       "      <td>X-ray</td>\n",
       "      <td>January 28, 2020</td>\n",
       "      <td>Cho Ray Hospital, Ho Chi Minh City, Vietnam</td>\n",
       "      <td>images</td>\n",
       "      <td>auntminnie-d-2020_01_28_23_51_6665_2020_01_28_...</td>\n",
       "      <td>10.1056/nejmc2001272</td>\n",
       "      <td>https://www.nejm.org/doi/full/10.1056/NEJMc200...</td>\n",
       "      <td>NaN</td>\n",
       "      <td>On January 22, 2020, a 65-year-old man with a ...</td>\n",
       "      <td>NaN</td>\n",
       "      <td>NaN</td>\n",
       "    </tr>\n",
       "    <tr>\n",
       "      <th>4</th>\n",
       "      <td>4</td>\n",
       "      <td>0.0</td>\n",
       "      <td>F</td>\n",
       "      <td>52.0</td>\n",
       "      <td>Pneumonia/Viral/COVID-19</td>\n",
       "      <td>Y</td>\n",
       "      <td>NaN</td>\n",
       "      <td>N</td>\n",
       "      <td>N</td>\n",
       "      <td>N</td>\n",
       "      <td>N</td>\n",
       "      <td>N</td>\n",
       "      <td>NaN</td>\n",
       "      <td>NaN</td>\n",
       "      <td>NaN</td>\n",
       "      <td>NaN</td>\n",
       "      <td>NaN</td>\n",
       "      <td>NaN</td>\n",
       "      <td>PA</td>\n",
       "      <td>X-ray</td>\n",
       "      <td>January 25, 2020</td>\n",
       "      <td>Changhua Christian Hospital, Changhua City, Ta...</td>\n",
       "      <td>images</td>\n",
       "      <td>nejmc2001573_f1a.jpeg</td>\n",
       "      <td>10.1056/NEJMc2001573</td>\n",
       "      <td>https://www.nejm.org/doi/full/10.1056/NEJMc200...</td>\n",
       "      <td>NaN</td>\n",
       "      <td>diffuse infiltrates in the bilateral lower lungs</td>\n",
       "      <td>NaN</td>\n",
       "      <td>NaN</td>\n",
       "    </tr>\n",
       "  </tbody>\n",
       "</table>\n",
       "</div>"
      ],
      "text/plain": [
       "  patientid  offset sex   age                   finding RT_PCR_positive  \\\n",
       "0         2     0.0   M  65.0  Pneumonia/Viral/COVID-19               Y   \n",
       "1         2     3.0   M  65.0  Pneumonia/Viral/COVID-19               Y   \n",
       "2         2     5.0   M  65.0  Pneumonia/Viral/COVID-19               Y   \n",
       "3         2     6.0   M  65.0  Pneumonia/Viral/COVID-19               Y   \n",
       "4         4     0.0   F  52.0  Pneumonia/Viral/COVID-19               Y   \n",
       "\n",
       "  survival intubated intubation_present went_icu in_icu  \\\n",
       "0        Y         N                  N        N      N   \n",
       "1        Y         N                  N        N      N   \n",
       "2        Y         N                  N        N      N   \n",
       "3        Y         N                  N        N      N   \n",
       "4      NaN         N                  N        N      N   \n",
       "\n",
       "  needed_supplemental_O2 extubated  temperature  pO2_saturation  \\\n",
       "0                      Y       NaN          NaN             NaN   \n",
       "1                      Y       NaN          NaN             NaN   \n",
       "2                      Y       NaN          NaN             NaN   \n",
       "3                      Y       NaN          NaN             NaN   \n",
       "4                      N       NaN          NaN             NaN   \n",
       "\n",
       "   leukocyte_count  neutrophil_count  lymphocyte_count view modality  \\\n",
       "0              NaN               NaN               NaN   PA    X-ray   \n",
       "1              NaN               NaN               NaN   PA    X-ray   \n",
       "2              NaN               NaN               NaN   PA    X-ray   \n",
       "3              NaN               NaN               NaN   PA    X-ray   \n",
       "4              NaN               NaN               NaN   PA    X-ray   \n",
       "\n",
       "               date                                           location  \\\n",
       "0  January 22, 2020        Cho Ray Hospital, Ho Chi Minh City, Vietnam   \n",
       "1  January 25, 2020        Cho Ray Hospital, Ho Chi Minh City, Vietnam   \n",
       "2  January 27, 2020        Cho Ray Hospital, Ho Chi Minh City, Vietnam   \n",
       "3  January 28, 2020        Cho Ray Hospital, Ho Chi Minh City, Vietnam   \n",
       "4  January 25, 2020  Changhua Christian Hospital, Changhua City, Ta...   \n",
       "\n",
       "   folder                                           filename  \\\n",
       "0  images  auntminnie-a-2020_01_28_23_51_6665_2020_01_28_...   \n",
       "1  images  auntminnie-b-2020_01_28_23_51_6665_2020_01_28_...   \n",
       "2  images  auntminnie-c-2020_01_28_23_51_6665_2020_01_28_...   \n",
       "3  images  auntminnie-d-2020_01_28_23_51_6665_2020_01_28_...   \n",
       "4  images                              nejmc2001573_f1a.jpeg   \n",
       "\n",
       "                    doi                                                url  \\\n",
       "0  10.1056/nejmc2001272  https://www.nejm.org/doi/full/10.1056/NEJMc200...   \n",
       "1  10.1056/nejmc2001272  https://www.nejm.org/doi/full/10.1056/NEJMc200...   \n",
       "2  10.1056/nejmc2001272  https://www.nejm.org/doi/full/10.1056/NEJMc200...   \n",
       "3  10.1056/nejmc2001272  https://www.nejm.org/doi/full/10.1056/NEJMc200...   \n",
       "4  10.1056/NEJMc2001573  https://www.nejm.org/doi/full/10.1056/NEJMc200...   \n",
       "\n",
       "  license                                     clinical_notes other_notes  \\\n",
       "0     NaN  On January 22, 2020, a 65-year-old man with a ...         NaN   \n",
       "1     NaN  On January 22, 2020, a 65-year-old man with a ...         NaN   \n",
       "2     NaN  On January 22, 2020, a 65-year-old man with a ...         NaN   \n",
       "3     NaN  On January 22, 2020, a 65-year-old man with a ...         NaN   \n",
       "4     NaN   diffuse infiltrates in the bilateral lower lungs         NaN   \n",
       "\n",
       "  Unnamed: 29  \n",
       "0         NaN  \n",
       "1         NaN  \n",
       "2         NaN  \n",
       "3         NaN  \n",
       "4         NaN  "
      ]
     },
     "execution_count": 6,
     "metadata": {},
     "output_type": "execute_result"
    }
   ],
   "source": [
    "covid_metadata.head(5)"
   ]
  },
  {
   "cell_type": "markdown",
   "metadata": {},
   "source": [
    "## Step 2. Summarize the dataset"
   ]
  },
  {
   "cell_type": "code",
   "execution_count": 7,
   "metadata": {},
   "outputs": [
    {
     "data": {
      "text/html": [
       "<div>\n",
       "<style scoped>\n",
       "    .dataframe tbody tr th:only-of-type {\n",
       "        vertical-align: middle;\n",
       "    }\n",
       "\n",
       "    .dataframe tbody tr th {\n",
       "        vertical-align: top;\n",
       "    }\n",
       "\n",
       "    .dataframe thead th {\n",
       "        text-align: right;\n",
       "    }\n",
       "</style>\n",
       "<table border=\"1\" class=\"dataframe\">\n",
       "  <thead>\n",
       "    <tr style=\"text-align: right;\">\n",
       "      <th></th>\n",
       "      <th>offset</th>\n",
       "      <th>age</th>\n",
       "      <th>temperature</th>\n",
       "      <th>pO2_saturation</th>\n",
       "      <th>leukocyte_count</th>\n",
       "      <th>neutrophil_count</th>\n",
       "      <th>lymphocyte_count</th>\n",
       "    </tr>\n",
       "  </thead>\n",
       "  <tbody>\n",
       "    <tr>\n",
       "      <th>count</th>\n",
       "      <td>697.000000</td>\n",
       "      <td>713.000000</td>\n",
       "      <td>78.000000</td>\n",
       "      <td>119.000000</td>\n",
       "      <td>16.000000</td>\n",
       "      <td>28.000000</td>\n",
       "      <td>40.000000</td>\n",
       "    </tr>\n",
       "    <tr>\n",
       "      <th>mean</th>\n",
       "      <td>9.083214</td>\n",
       "      <td>53.534362</td>\n",
       "      <td>38.898718</td>\n",
       "      <td>78.475630</td>\n",
       "      <td>5.024375</td>\n",
       "      <td>5.307143</td>\n",
       "      <td>4.638050</td>\n",
       "    </tr>\n",
       "    <tr>\n",
       "      <th>std</th>\n",
       "      <td>31.664077</td>\n",
       "      <td>16.949007</td>\n",
       "      <td>6.494383</td>\n",
       "      <td>38.742573</td>\n",
       "      <td>2.660341</td>\n",
       "      <td>3.489956</td>\n",
       "      <td>20.550033</td>\n",
       "    </tr>\n",
       "    <tr>\n",
       "      <th>min</th>\n",
       "      <td>-360.000000</td>\n",
       "      <td>18.000000</td>\n",
       "      <td>36.000000</td>\n",
       "      <td>20.000000</td>\n",
       "      <td>0.220000</td>\n",
       "      <td>0.000000</td>\n",
       "      <td>0.400000</td>\n",
       "    </tr>\n",
       "    <tr>\n",
       "      <th>25%</th>\n",
       "      <td>1.000000</td>\n",
       "      <td>40.000000</td>\n",
       "      <td>37.800000</td>\n",
       "      <td>55.000000</td>\n",
       "      <td>3.067500</td>\n",
       "      <td>2.725000</td>\n",
       "      <td>0.746500</td>\n",
       "    </tr>\n",
       "    <tr>\n",
       "      <th>50%</th>\n",
       "      <td>5.000000</td>\n",
       "      <td>54.000000</td>\n",
       "      <td>38.150000</td>\n",
       "      <td>85.000000</td>\n",
       "      <td>4.745000</td>\n",
       "      <td>4.800000</td>\n",
       "      <td>1.100000</td>\n",
       "    </tr>\n",
       "    <tr>\n",
       "      <th>75%</th>\n",
       "      <td>10.000000</td>\n",
       "      <td>68.000000</td>\n",
       "      <td>38.975000</td>\n",
       "      <td>95.000000</td>\n",
       "      <td>6.857500</td>\n",
       "      <td>6.925000</td>\n",
       "      <td>1.600000</td>\n",
       "    </tr>\n",
       "    <tr>\n",
       "      <th>max</th>\n",
       "      <td>365.000000</td>\n",
       "      <td>94.000000</td>\n",
       "      <td>95.000000</td>\n",
       "      <td>340.000000</td>\n",
       "      <td>11.200000</td>\n",
       "      <td>12.900000</td>\n",
       "      <td>131.000000</td>\n",
       "    </tr>\n",
       "  </tbody>\n",
       "</table>\n",
       "</div>"
      ],
      "text/plain": [
       "           offset         age  temperature  pO2_saturation  leukocyte_count  \\\n",
       "count  697.000000  713.000000    78.000000      119.000000        16.000000   \n",
       "mean     9.083214   53.534362    38.898718       78.475630         5.024375   \n",
       "std     31.664077   16.949007     6.494383       38.742573         2.660341   \n",
       "min   -360.000000   18.000000    36.000000       20.000000         0.220000   \n",
       "25%      1.000000   40.000000    37.800000       55.000000         3.067500   \n",
       "50%      5.000000   54.000000    38.150000       85.000000         4.745000   \n",
       "75%     10.000000   68.000000    38.975000       95.000000         6.857500   \n",
       "max    365.000000   94.000000    95.000000      340.000000        11.200000   \n",
       "\n",
       "       neutrophil_count  lymphocyte_count  \n",
       "count         28.000000         40.000000  \n",
       "mean           5.307143          4.638050  \n",
       "std            3.489956         20.550033  \n",
       "min            0.000000          0.400000  \n",
       "25%            2.725000          0.746500  \n",
       "50%            4.800000          1.100000  \n",
       "75%            6.925000          1.600000  \n",
       "max           12.900000        131.000000  "
      ]
     },
     "execution_count": 7,
     "metadata": {},
     "output_type": "execute_result"
    }
   ],
   "source": [
    "covid_metadata.describe()"
   ]
  },
  {
   "cell_type": "markdown",
   "metadata": {},
   "source": [
    "## Step 3. Examine labels for COVID and re-map if necessary"
   ]
  },
  {
   "cell_type": "code",
   "execution_count": 9,
   "metadata": {},
   "outputs": [
    {
     "data": {
      "text/plain": [
       "Pneumonia/Viral/COVID-19                   584\n",
       "todo                                        83\n",
       "Pneumonia                                   81\n",
       "Pneumonia/Fungal/Pneumocystis               30\n",
       "Pneumonia/Bacterial/Streptococcus           22\n",
       "No Finding                                  22\n",
       "Tuberculosis                                18\n",
       "Pneumonia/Viral/SARS                        16\n",
       "Pneumonia/Lipoid                            13\n",
       "Pneumonia/Bacterial/Mycoplasma              11\n",
       "Pneumonia/Bacterial/Legionella              10\n",
       "Pneumonia/Viral/MERS-CoV                    10\n",
       "Pneumonia/Bacterial/Klebsiella              10\n",
       "Pneumonia/Bacterial/Nocardia                 8\n",
       "Pneumonia/Viral/Varicella                    6\n",
       "Pneumonia/Viral/Influenza                    5\n",
       "Pneumonia/Bacterial                          4\n",
       "Pneumonia/Bacterial/E.Coli                   4\n",
       "Pneumonia/Bacterial/Chlamydophila            3\n",
       "Pneumonia/Viral/Herpes                       3\n",
       "Pneumonia/Viral/Influenza/H1N1               2\n",
       "Pneumonia/Fungal/Aspergillosis               2\n",
       "Pneumonia/Aspiration                         1\n",
       "Unknown                                      1\n",
       "Pneumonia/Bacterial/Staphylococcus/MRSA      1\n",
       "Name: finding, dtype: int64"
      ]
     },
     "execution_count": 9,
     "metadata": {},
     "output_type": "execute_result"
    }
   ],
   "source": [
    "covid_metadata.finding.value_counts()"
   ]
  },
  {
   "cell_type": "code",
   "execution_count": 10,
   "metadata": {},
   "outputs": [
    {
     "data": {
      "text/plain": [
       "472"
      ]
     },
     "execution_count": 10,
     "metadata": {},
     "output_type": "execute_result"
    }
   ],
   "source": [
    "len(covid_metadata.patientid.unique())"
   ]
  },
  {
   "cell_type": "code",
   "execution_count": 11,
   "metadata": {},
   "outputs": [],
   "source": [
    "covid_metadata.loc[covid_metadata['finding'] == \"Pneumonia/Viral/COVID-19\", 'is_covid'] = 1\n",
    "covid_metadata.loc[covid_metadata['finding'] != \"Pneumonia/Viral/COVID-19\", 'is_covid'] = 0"
   ]
  },
  {
   "cell_type": "code",
   "execution_count": 12,
   "metadata": {},
   "outputs": [
    {
     "data": {
      "text/plain": [
       "1.0    584\n",
       "0.0    366\n",
       "Name: is_covid, dtype: int64"
      ]
     },
     "execution_count": 12,
     "metadata": {},
     "output_type": "execute_result"
    }
   ],
   "source": [
    "covid_metadata.is_covid.value_counts()"
   ]
  },
  {
   "cell_type": "markdown",
   "metadata": {},
   "source": [
    "## Step 4. Examine unique patient records (de-dupe rows with multiple images per patient)"
   ]
  },
  {
   "cell_type": "code",
   "execution_count": 13,
   "metadata": {},
   "outputs": [],
   "source": [
    "unique_cases = covid_metadata.drop_duplicates(subset='patientid')"
   ]
  },
  {
   "cell_type": "code",
   "execution_count": 14,
   "metadata": {},
   "outputs": [
    {
     "data": {
      "text/plain": [
       "(472, 31)"
      ]
     },
     "execution_count": 14,
     "metadata": {},
     "output_type": "execute_result"
    }
   ],
   "source": [
    "unique_cases.shape"
   ]
  },
  {
   "cell_type": "code",
   "execution_count": 15,
   "metadata": {},
   "outputs": [
    {
     "data": {
      "text/html": [
       "<div>\n",
       "<style scoped>\n",
       "    .dataframe tbody tr th:only-of-type {\n",
       "        vertical-align: middle;\n",
       "    }\n",
       "\n",
       "    .dataframe tbody tr th {\n",
       "        vertical-align: top;\n",
       "    }\n",
       "\n",
       "    .dataframe thead th {\n",
       "        text-align: right;\n",
       "    }\n",
       "</style>\n",
       "<table border=\"1\" class=\"dataframe\">\n",
       "  <thead>\n",
       "    <tr style=\"text-align: right;\">\n",
       "      <th></th>\n",
       "      <th>patientid</th>\n",
       "      <th>offset</th>\n",
       "      <th>sex</th>\n",
       "      <th>age</th>\n",
       "      <th>finding</th>\n",
       "      <th>RT_PCR_positive</th>\n",
       "      <th>survival</th>\n",
       "      <th>intubated</th>\n",
       "      <th>intubation_present</th>\n",
       "      <th>went_icu</th>\n",
       "      <th>in_icu</th>\n",
       "      <th>needed_supplemental_O2</th>\n",
       "      <th>extubated</th>\n",
       "      <th>temperature</th>\n",
       "      <th>pO2_saturation</th>\n",
       "      <th>leukocyte_count</th>\n",
       "      <th>neutrophil_count</th>\n",
       "      <th>lymphocyte_count</th>\n",
       "      <th>view</th>\n",
       "      <th>modality</th>\n",
       "      <th>date</th>\n",
       "      <th>location</th>\n",
       "      <th>folder</th>\n",
       "      <th>filename</th>\n",
       "      <th>doi</th>\n",
       "      <th>url</th>\n",
       "      <th>license</th>\n",
       "      <th>clinical_notes</th>\n",
       "      <th>other_notes</th>\n",
       "      <th>Unnamed: 29</th>\n",
       "      <th>is_covid</th>\n",
       "    </tr>\n",
       "  </thead>\n",
       "  <tbody>\n",
       "    <tr>\n",
       "      <th>0</th>\n",
       "      <td>2</td>\n",
       "      <td>0.0</td>\n",
       "      <td>M</td>\n",
       "      <td>65.0</td>\n",
       "      <td>Pneumonia/Viral/COVID-19</td>\n",
       "      <td>Y</td>\n",
       "      <td>Y</td>\n",
       "      <td>N</td>\n",
       "      <td>N</td>\n",
       "      <td>N</td>\n",
       "      <td>N</td>\n",
       "      <td>Y</td>\n",
       "      <td>NaN</td>\n",
       "      <td>NaN</td>\n",
       "      <td>NaN</td>\n",
       "      <td>NaN</td>\n",
       "      <td>NaN</td>\n",
       "      <td>NaN</td>\n",
       "      <td>PA</td>\n",
       "      <td>X-ray</td>\n",
       "      <td>January 22, 2020</td>\n",
       "      <td>Cho Ray Hospital, Ho Chi Minh City, Vietnam</td>\n",
       "      <td>images</td>\n",
       "      <td>auntminnie-a-2020_01_28_23_51_6665_2020_01_28_...</td>\n",
       "      <td>10.1056/nejmc2001272</td>\n",
       "      <td>https://www.nejm.org/doi/full/10.1056/NEJMc200...</td>\n",
       "      <td>NaN</td>\n",
       "      <td>On January 22, 2020, a 65-year-old man with a ...</td>\n",
       "      <td>NaN</td>\n",
       "      <td>NaN</td>\n",
       "      <td>1.0</td>\n",
       "    </tr>\n",
       "    <tr>\n",
       "      <th>4</th>\n",
       "      <td>4</td>\n",
       "      <td>0.0</td>\n",
       "      <td>F</td>\n",
       "      <td>52.0</td>\n",
       "      <td>Pneumonia/Viral/COVID-19</td>\n",
       "      <td>Y</td>\n",
       "      <td>NaN</td>\n",
       "      <td>N</td>\n",
       "      <td>N</td>\n",
       "      <td>N</td>\n",
       "      <td>N</td>\n",
       "      <td>N</td>\n",
       "      <td>NaN</td>\n",
       "      <td>NaN</td>\n",
       "      <td>NaN</td>\n",
       "      <td>NaN</td>\n",
       "      <td>NaN</td>\n",
       "      <td>NaN</td>\n",
       "      <td>PA</td>\n",
       "      <td>X-ray</td>\n",
       "      <td>January 25, 2020</td>\n",
       "      <td>Changhua Christian Hospital, Changhua City, Ta...</td>\n",
       "      <td>images</td>\n",
       "      <td>nejmc2001573_f1a.jpeg</td>\n",
       "      <td>10.1056/NEJMc2001573</td>\n",
       "      <td>https://www.nejm.org/doi/full/10.1056/NEJMc200...</td>\n",
       "      <td>NaN</td>\n",
       "      <td>diffuse infiltrates in the bilateral lower lungs</td>\n",
       "      <td>NaN</td>\n",
       "      <td>NaN</td>\n",
       "      <td>1.0</td>\n",
       "    </tr>\n",
       "    <tr>\n",
       "      <th>6</th>\n",
       "      <td>5</td>\n",
       "      <td>NaN</td>\n",
       "      <td>NaN</td>\n",
       "      <td>NaN</td>\n",
       "      <td>Pneumonia</td>\n",
       "      <td>NaN</td>\n",
       "      <td>NaN</td>\n",
       "      <td>Y</td>\n",
       "      <td>Y</td>\n",
       "      <td>Y</td>\n",
       "      <td>Y</td>\n",
       "      <td>NaN</td>\n",
       "      <td>NaN</td>\n",
       "      <td>NaN</td>\n",
       "      <td>NaN</td>\n",
       "      <td>NaN</td>\n",
       "      <td>NaN</td>\n",
       "      <td>NaN</td>\n",
       "      <td>PA</td>\n",
       "      <td>X-ray</td>\n",
       "      <td>2017</td>\n",
       "      <td>NaN</td>\n",
       "      <td>images</td>\n",
       "      <td>ARDSSevere.png</td>\n",
       "      <td>NaN</td>\n",
       "      <td>https://en.wikipedia.org/wiki/File:ARDSSevere.png</td>\n",
       "      <td>CC BY-SA</td>\n",
       "      <td>Severe ARDS. Person is intubated with an OG in...</td>\n",
       "      <td>NaN</td>\n",
       "      <td>NaN</td>\n",
       "      <td>0.0</td>\n",
       "    </tr>\n",
       "    <tr>\n",
       "      <th>7</th>\n",
       "      <td>6</td>\n",
       "      <td>0.0</td>\n",
       "      <td>NaN</td>\n",
       "      <td>NaN</td>\n",
       "      <td>Pneumonia/Viral/COVID-19</td>\n",
       "      <td>Y</td>\n",
       "      <td>NaN</td>\n",
       "      <td>Y</td>\n",
       "      <td>Y</td>\n",
       "      <td>Y</td>\n",
       "      <td>Y</td>\n",
       "      <td>NaN</td>\n",
       "      <td>NaN</td>\n",
       "      <td>NaN</td>\n",
       "      <td>NaN</td>\n",
       "      <td>NaN</td>\n",
       "      <td>NaN</td>\n",
       "      <td>NaN</td>\n",
       "      <td>PA</td>\n",
       "      <td>X-ray</td>\n",
       "      <td>January 6, 2020</td>\n",
       "      <td>Wuhan Jinyintan Hospital, Wuhan, Hubei Provinc...</td>\n",
       "      <td>images</td>\n",
       "      <td>lancet-case2a.jpg</td>\n",
       "      <td>10.1016/S0140-6736(20)30211-7</td>\n",
       "      <td>https://www.thelancet.com/journals/lancet/arti...</td>\n",
       "      <td>NaN</td>\n",
       "      <td>Case 2: chest x-ray obtained on Jan 6 (2A). Th...</td>\n",
       "      <td>NaN</td>\n",
       "      <td>NaN</td>\n",
       "      <td>1.0</td>\n",
       "    </tr>\n",
       "    <tr>\n",
       "      <th>9</th>\n",
       "      <td>3</td>\n",
       "      <td>4.0</td>\n",
       "      <td>M</td>\n",
       "      <td>74.0</td>\n",
       "      <td>Pneumonia/Viral/SARS</td>\n",
       "      <td>NaN</td>\n",
       "      <td>N</td>\n",
       "      <td>NaN</td>\n",
       "      <td>NaN</td>\n",
       "      <td>NaN</td>\n",
       "      <td>NaN</td>\n",
       "      <td>NaN</td>\n",
       "      <td>NaN</td>\n",
       "      <td>38.0</td>\n",
       "      <td>NaN</td>\n",
       "      <td>NaN</td>\n",
       "      <td>NaN</td>\n",
       "      <td>NaN</td>\n",
       "      <td>AP</td>\n",
       "      <td>X-ray</td>\n",
       "      <td>2004</td>\n",
       "      <td>Mount Sinai Hospital, Toronto, Ontario, Canada</td>\n",
       "      <td>images</td>\n",
       "      <td>SARS-10.1148rg.242035193-g04mr34g0-Fig8a-day0....</td>\n",
       "      <td>10.1148/rg.242035193</td>\n",
       "      <td>https://pubs.rsna.org/doi/10.1148/rg.242035193</td>\n",
       "      <td>NaN</td>\n",
       "      <td>SARS in a 74-year-old man who developed sympto...</td>\n",
       "      <td>NaN</td>\n",
       "      <td>NaN</td>\n",
       "      <td>0.0</td>\n",
       "    </tr>\n",
       "    <tr>\n",
       "      <th>...</th>\n",
       "      <td>...</td>\n",
       "      <td>...</td>\n",
       "      <td>...</td>\n",
       "      <td>...</td>\n",
       "      <td>...</td>\n",
       "      <td>...</td>\n",
       "      <td>...</td>\n",
       "      <td>...</td>\n",
       "      <td>...</td>\n",
       "      <td>...</td>\n",
       "      <td>...</td>\n",
       "      <td>...</td>\n",
       "      <td>...</td>\n",
       "      <td>...</td>\n",
       "      <td>...</td>\n",
       "      <td>...</td>\n",
       "      <td>...</td>\n",
       "      <td>...</td>\n",
       "      <td>...</td>\n",
       "      <td>...</td>\n",
       "      <td>...</td>\n",
       "      <td>...</td>\n",
       "      <td>...</td>\n",
       "      <td>...</td>\n",
       "      <td>...</td>\n",
       "      <td>...</td>\n",
       "      <td>...</td>\n",
       "      <td>...</td>\n",
       "      <td>...</td>\n",
       "      <td>...</td>\n",
       "      <td>...</td>\n",
       "    </tr>\n",
       "    <tr>\n",
       "      <th>941</th>\n",
       "      <td>477</td>\n",
       "      <td>7.0</td>\n",
       "      <td>F</td>\n",
       "      <td>60.0</td>\n",
       "      <td>Pneumonia/Bacterial/Legionella</td>\n",
       "      <td>NaN</td>\n",
       "      <td>NaN</td>\n",
       "      <td>Y</td>\n",
       "      <td>NaN</td>\n",
       "      <td>Y</td>\n",
       "      <td>NaN</td>\n",
       "      <td>NaN</td>\n",
       "      <td>NaN</td>\n",
       "      <td>NaN</td>\n",
       "      <td>NaN</td>\n",
       "      <td>NaN</td>\n",
       "      <td>NaN</td>\n",
       "      <td>NaN</td>\n",
       "      <td>AP</td>\n",
       "      <td>X-ray</td>\n",
       "      <td>NaN</td>\n",
       "      <td>United Kingdom</td>\n",
       "      <td>images</td>\n",
       "      <td>bdc40f9ad2395d88c92479089f5d1b_jumbo-10.jpeg</td>\n",
       "      <td>NaN</td>\n",
       "      <td>https://radiopaedia.org/cases/legionella-pneum...</td>\n",
       "      <td>CC BY-NC-SA</td>\n",
       "      <td>Unwell. Low saturations. Pyrexic. Tachypneic, ...</td>\n",
       "      <td>Case courtesy of Dr Ian Bickle, Radiopaedia.or...</td>\n",
       "      <td>NaN</td>\n",
       "      <td>0.0</td>\n",
       "    </tr>\n",
       "    <tr>\n",
       "      <th>943</th>\n",
       "      <td>478</td>\n",
       "      <td>NaN</td>\n",
       "      <td>F</td>\n",
       "      <td>75.0</td>\n",
       "      <td>No Finding</td>\n",
       "      <td>NaN</td>\n",
       "      <td>NaN</td>\n",
       "      <td>NaN</td>\n",
       "      <td>NaN</td>\n",
       "      <td>NaN</td>\n",
       "      <td>NaN</td>\n",
       "      <td>NaN</td>\n",
       "      <td>NaN</td>\n",
       "      <td>NaN</td>\n",
       "      <td>NaN</td>\n",
       "      <td>NaN</td>\n",
       "      <td>NaN</td>\n",
       "      <td>NaN</td>\n",
       "      <td>AP</td>\n",
       "      <td>X-ray</td>\n",
       "      <td>NaN</td>\n",
       "      <td>Hungary</td>\n",
       "      <td>images</td>\n",
       "      <td>02b973e10caa192fd4e6825ad4aeaf_jumbo-10.jpeg</td>\n",
       "      <td>NaN</td>\n",
       "      <td>https://radiopaedia.org/cases/right-middle-lob...</td>\n",
       "      <td>CC BY-NC-SA</td>\n",
       "      <td>Decreased SpO2, elevated CRP and WBC, diffuse ...</td>\n",
       "      <td>Case courtesy of Dr Balint Botz , Radiopaedia....</td>\n",
       "      <td>NaN</td>\n",
       "      <td>0.0</td>\n",
       "    </tr>\n",
       "    <tr>\n",
       "      <th>945</th>\n",
       "      <td>479</td>\n",
       "      <td>0.0</td>\n",
       "      <td>F</td>\n",
       "      <td>40.0</td>\n",
       "      <td>Pneumonia</td>\n",
       "      <td>NaN</td>\n",
       "      <td>NaN</td>\n",
       "      <td>NaN</td>\n",
       "      <td>NaN</td>\n",
       "      <td>NaN</td>\n",
       "      <td>NaN</td>\n",
       "      <td>NaN</td>\n",
       "      <td>NaN</td>\n",
       "      <td>NaN</td>\n",
       "      <td>NaN</td>\n",
       "      <td>NaN</td>\n",
       "      <td>NaN</td>\n",
       "      <td>NaN</td>\n",
       "      <td>AP</td>\n",
       "      <td>X-ray</td>\n",
       "      <td>NaN</td>\n",
       "      <td>United Kingdom</td>\n",
       "      <td>images</td>\n",
       "      <td>072ecaf8c60a81980abb57150a8016_jumbo-9.jpeg</td>\n",
       "      <td>NaN</td>\n",
       "      <td>https://radiopaedia.org/cases/multifocal-round...</td>\n",
       "      <td>CC BY-NC-SA</td>\n",
       "      <td>Asthmatic. Shortness of breath and wheeze. Rou...</td>\n",
       "      <td>Case courtesy of Dr Ian Bickle, Radiopaedia.or...</td>\n",
       "      <td>NaN</td>\n",
       "      <td>0.0</td>\n",
       "    </tr>\n",
       "    <tr>\n",
       "      <th>947</th>\n",
       "      <td>480</td>\n",
       "      <td>NaN</td>\n",
       "      <td>M</td>\n",
       "      <td>26.0</td>\n",
       "      <td>Pneumonia</td>\n",
       "      <td>NaN</td>\n",
       "      <td>NaN</td>\n",
       "      <td>NaN</td>\n",
       "      <td>NaN</td>\n",
       "      <td>NaN</td>\n",
       "      <td>NaN</td>\n",
       "      <td>NaN</td>\n",
       "      <td>NaN</td>\n",
       "      <td>NaN</td>\n",
       "      <td>NaN</td>\n",
       "      <td>NaN</td>\n",
       "      <td>NaN</td>\n",
       "      <td>NaN</td>\n",
       "      <td>PA</td>\n",
       "      <td>X-ray</td>\n",
       "      <td>NaN</td>\n",
       "      <td>NaN</td>\n",
       "      <td>images</td>\n",
       "      <td>000001-266.jpg</td>\n",
       "      <td>NaN</td>\n",
       "      <td>https://www.eurorad.org/case/947</td>\n",
       "      <td>CC BY-NC-SA 4.0</td>\n",
       "      <td>fire-eater accidentally ingested a paraffin mi...</td>\n",
       "      <td>NaN</td>\n",
       "      <td>NaN</td>\n",
       "      <td>0.0</td>\n",
       "    </tr>\n",
       "    <tr>\n",
       "      <th>948</th>\n",
       "      <td>481</td>\n",
       "      <td>NaN</td>\n",
       "      <td>M</td>\n",
       "      <td>50.0</td>\n",
       "      <td>Pneumonia</td>\n",
       "      <td>NaN</td>\n",
       "      <td>NaN</td>\n",
       "      <td>NaN</td>\n",
       "      <td>NaN</td>\n",
       "      <td>NaN</td>\n",
       "      <td>NaN</td>\n",
       "      <td>NaN</td>\n",
       "      <td>NaN</td>\n",
       "      <td>NaN</td>\n",
       "      <td>NaN</td>\n",
       "      <td>NaN</td>\n",
       "      <td>NaN</td>\n",
       "      <td>NaN</td>\n",
       "      <td>AP</td>\n",
       "      <td>X-ray</td>\n",
       "      <td>NaN</td>\n",
       "      <td>NaN</td>\n",
       "      <td>images</td>\n",
       "      <td>000001-272.jpg</td>\n",
       "      <td>NaN</td>\n",
       "      <td>https://www.eurorad.org/case/934</td>\n",
       "      <td>CC BY-NC-SA 4.0</td>\n",
       "      <td>The patient, a heavy smoker, was referred to t...</td>\n",
       "      <td>NaN</td>\n",
       "      <td>NaN</td>\n",
       "      <td>0.0</td>\n",
       "    </tr>\n",
       "  </tbody>\n",
       "</table>\n",
       "<p>472 rows × 31 columns</p>\n",
       "</div>"
      ],
      "text/plain": [
       "    patientid  offset  sex   age                         finding  \\\n",
       "0           2     0.0    M  65.0        Pneumonia/Viral/COVID-19   \n",
       "4           4     0.0    F  52.0        Pneumonia/Viral/COVID-19   \n",
       "6           5     NaN  NaN   NaN                       Pneumonia   \n",
       "7           6     0.0  NaN   NaN        Pneumonia/Viral/COVID-19   \n",
       "9           3     4.0    M  74.0            Pneumonia/Viral/SARS   \n",
       "..        ...     ...  ...   ...                             ...   \n",
       "941       477     7.0    F  60.0  Pneumonia/Bacterial/Legionella   \n",
       "943       478     NaN    F  75.0                      No Finding   \n",
       "945       479     0.0    F  40.0                       Pneumonia   \n",
       "947       480     NaN    M  26.0                       Pneumonia   \n",
       "948       481     NaN    M  50.0                       Pneumonia   \n",
       "\n",
       "    RT_PCR_positive survival intubated intubation_present went_icu in_icu  \\\n",
       "0                 Y        Y         N                  N        N      N   \n",
       "4                 Y      NaN         N                  N        N      N   \n",
       "6               NaN      NaN         Y                  Y        Y      Y   \n",
       "7                 Y      NaN         Y                  Y        Y      Y   \n",
       "9               NaN        N       NaN                NaN      NaN    NaN   \n",
       "..              ...      ...       ...                ...      ...    ...   \n",
       "941             NaN      NaN         Y                NaN        Y    NaN   \n",
       "943             NaN      NaN       NaN                NaN      NaN    NaN   \n",
       "945             NaN      NaN       NaN                NaN      NaN    NaN   \n",
       "947             NaN      NaN       NaN                NaN      NaN    NaN   \n",
       "948             NaN      NaN       NaN                NaN      NaN    NaN   \n",
       "\n",
       "    needed_supplemental_O2 extubated  temperature  pO2_saturation  \\\n",
       "0                        Y       NaN          NaN             NaN   \n",
       "4                        N       NaN          NaN             NaN   \n",
       "6                      NaN       NaN          NaN             NaN   \n",
       "7                      NaN       NaN          NaN             NaN   \n",
       "9                      NaN       NaN         38.0             NaN   \n",
       "..                     ...       ...          ...             ...   \n",
       "941                    NaN       NaN          NaN             NaN   \n",
       "943                    NaN       NaN          NaN             NaN   \n",
       "945                    NaN       NaN          NaN             NaN   \n",
       "947                    NaN       NaN          NaN             NaN   \n",
       "948                    NaN       NaN          NaN             NaN   \n",
       "\n",
       "     leukocyte_count  neutrophil_count  lymphocyte_count view modality  \\\n",
       "0                NaN               NaN               NaN   PA    X-ray   \n",
       "4                NaN               NaN               NaN   PA    X-ray   \n",
       "6                NaN               NaN               NaN   PA    X-ray   \n",
       "7                NaN               NaN               NaN   PA    X-ray   \n",
       "9                NaN               NaN               NaN   AP    X-ray   \n",
       "..               ...               ...               ...  ...      ...   \n",
       "941              NaN               NaN               NaN   AP    X-ray   \n",
       "943              NaN               NaN               NaN   AP    X-ray   \n",
       "945              NaN               NaN               NaN   AP    X-ray   \n",
       "947              NaN               NaN               NaN   PA    X-ray   \n",
       "948              NaN               NaN               NaN   AP    X-ray   \n",
       "\n",
       "                 date                                           location  \\\n",
       "0    January 22, 2020        Cho Ray Hospital, Ho Chi Minh City, Vietnam   \n",
       "4    January 25, 2020  Changhua Christian Hospital, Changhua City, Ta...   \n",
       "6                2017                                                NaN   \n",
       "7     January 6, 2020  Wuhan Jinyintan Hospital, Wuhan, Hubei Provinc...   \n",
       "9                2004     Mount Sinai Hospital, Toronto, Ontario, Canada   \n",
       "..                ...                                                ...   \n",
       "941               NaN                                     United Kingdom   \n",
       "943               NaN                                            Hungary   \n",
       "945               NaN                                     United Kingdom   \n",
       "947               NaN                                                NaN   \n",
       "948               NaN                                                NaN   \n",
       "\n",
       "     folder                                           filename  \\\n",
       "0    images  auntminnie-a-2020_01_28_23_51_6665_2020_01_28_...   \n",
       "4    images                              nejmc2001573_f1a.jpeg   \n",
       "6    images                                     ARDSSevere.png   \n",
       "7    images                                  lancet-case2a.jpg   \n",
       "9    images  SARS-10.1148rg.242035193-g04mr34g0-Fig8a-day0....   \n",
       "..      ...                                                ...   \n",
       "941  images       bdc40f9ad2395d88c92479089f5d1b_jumbo-10.jpeg   \n",
       "943  images       02b973e10caa192fd4e6825ad4aeaf_jumbo-10.jpeg   \n",
       "945  images        072ecaf8c60a81980abb57150a8016_jumbo-9.jpeg   \n",
       "947  images                                     000001-266.jpg   \n",
       "948  images                                     000001-272.jpg   \n",
       "\n",
       "                               doi  \\\n",
       "0             10.1056/nejmc2001272   \n",
       "4             10.1056/NEJMc2001573   \n",
       "6                              NaN   \n",
       "7    10.1016/S0140-6736(20)30211-7   \n",
       "9             10.1148/rg.242035193   \n",
       "..                             ...   \n",
       "941                            NaN   \n",
       "943                            NaN   \n",
       "945                            NaN   \n",
       "947                            NaN   \n",
       "948                            NaN   \n",
       "\n",
       "                                                   url          license  \\\n",
       "0    https://www.nejm.org/doi/full/10.1056/NEJMc200...              NaN   \n",
       "4    https://www.nejm.org/doi/full/10.1056/NEJMc200...              NaN   \n",
       "6    https://en.wikipedia.org/wiki/File:ARDSSevere.png         CC BY-SA   \n",
       "7    https://www.thelancet.com/journals/lancet/arti...              NaN   \n",
       "9       https://pubs.rsna.org/doi/10.1148/rg.242035193              NaN   \n",
       "..                                                 ...              ...   \n",
       "941  https://radiopaedia.org/cases/legionella-pneum...      CC BY-NC-SA   \n",
       "943  https://radiopaedia.org/cases/right-middle-lob...      CC BY-NC-SA   \n",
       "945  https://radiopaedia.org/cases/multifocal-round...      CC BY-NC-SA   \n",
       "947                   https://www.eurorad.org/case/947  CC BY-NC-SA 4.0   \n",
       "948                   https://www.eurorad.org/case/934  CC BY-NC-SA 4.0   \n",
       "\n",
       "                                        clinical_notes  \\\n",
       "0    On January 22, 2020, a 65-year-old man with a ...   \n",
       "4     diffuse infiltrates in the bilateral lower lungs   \n",
       "6    Severe ARDS. Person is intubated with an OG in...   \n",
       "7    Case 2: chest x-ray obtained on Jan 6 (2A). Th...   \n",
       "9    SARS in a 74-year-old man who developed sympto...   \n",
       "..                                                 ...   \n",
       "941  Unwell. Low saturations. Pyrexic. Tachypneic, ...   \n",
       "943  Decreased SpO2, elevated CRP and WBC, diffuse ...   \n",
       "945  Asthmatic. Shortness of breath and wheeze. Rou...   \n",
       "947  fire-eater accidentally ingested a paraffin mi...   \n",
       "948  The patient, a heavy smoker, was referred to t...   \n",
       "\n",
       "                                           other_notes Unnamed: 29  is_covid  \n",
       "0                                                  NaN         NaN       1.0  \n",
       "4                                                  NaN         NaN       1.0  \n",
       "6                                                  NaN         NaN       0.0  \n",
       "7                                                  NaN         NaN       1.0  \n",
       "9                                                  NaN         NaN       0.0  \n",
       "..                                                 ...         ...       ...  \n",
       "941  Case courtesy of Dr Ian Bickle, Radiopaedia.or...         NaN       0.0  \n",
       "943  Case courtesy of Dr Balint Botz , Radiopaedia....         NaN       0.0  \n",
       "945  Case courtesy of Dr Ian Bickle, Radiopaedia.or...         NaN       0.0  \n",
       "947                                                NaN         NaN       0.0  \n",
       "948                                                NaN         NaN       0.0  \n",
       "\n",
       "[472 rows x 31 columns]"
      ]
     },
     "execution_count": 15,
     "metadata": {},
     "output_type": "execute_result"
    }
   ],
   "source": [
    "unique_cases"
   ]
  },
  {
   "cell_type": "markdown",
   "metadata": {},
   "source": [
    "## Step 5. Gender distribution of dataset, breakdown by COVID incidence"
   ]
  },
  {
   "cell_type": "code",
   "execution_count": 61,
   "metadata": {},
   "outputs": [
    {
     "data": {
      "text/plain": [
       "<AxesSubplot:>"
      ]
     },
     "execution_count": 61,
     "metadata": {},
     "output_type": "execute_result"
    },
    {
     "data": {
      "image/png": "[encoded data removed]",
      "text/plain": [
       "<Figure size 432x288 with 1 Axes>"
      ]
     },
     "metadata": {
      "needs_background": "light"
     },
     "output_type": "display_data"
    }
   ],
   "source": [
    "unique_cases.sex.hist()"
   ]
  },
  {
   "cell_type": "code",
   "execution_count": 26,
   "metadata": {},
   "outputs": [
    {
     "data": {
      "text/plain": [
       "<AxesSubplot:ylabel='sex,is_covid'>"
      ]
     },
     "execution_count": 26,
     "metadata": {},
     "output_type": "execute_result"
    },
    {
     "data": {
      "image/png": "[encoded data removed]",
      "text/plain": [
       "<Figure size 432x288 with 1 Axes>"
      ]
     },
     "metadata": {
      "needs_background": "light"
     },
     "output_type": "display_data"
    }
   ],
   "source": [
    "unique_cases.groupby(['sex', 'is_covid']).size().plot(kind='barh') "
   ]
  },
  {
   "cell_type": "markdown",
   "metadata": {},
   "source": [
    "## Step 6. Age distribution, breakdown by COVID incidence"
   ]
  },
  {
   "cell_type": "code",
   "execution_count": 29,
   "metadata": {},
   "outputs": [
    {
     "data": {
      "text/plain": [
       "<AxesSubplot:>"
      ]
     },
     "execution_count": 29,
     "metadata": {},
     "output_type": "execute_result"
    },
    {
     "data": {
      "image/png": "[encoded data removed]",
      "text/plain": [
       "<Figure size 432x288 with 1 Axes>"
      ]
     },
     "metadata": {
      "needs_background": "light"
     },
     "output_type": "display_data"
    }
   ],
   "source": [
    "unique_cases.age.hist()"
   ]
  },
  {
   "cell_type": "code",
   "execution_count": 33,
   "metadata": {},
   "outputs": [
    {
     "data": {
      "text/plain": [
       "array([<AxesSubplot:title={'center':'0.0'}>,\n",
       "       <AxesSubplot:title={'center':'1.0'}>], dtype=object)"
      ]
     },
     "execution_count": 33,
     "metadata": {},
     "output_type": "execute_result"
    },
    {
     "data": {
      "image/png": "[encoded data removed]",
      "text/plain": [
       "<Figure size 432x288 with 2 Axes>"
      ]
     },
     "metadata": {
      "needs_background": "light"
     },
     "output_type": "display_data"
    }
   ],
   "source": [
    "unique_cases['age'].hist(by=unique_cases['is_covid'])"
   ]
  },
  {
   "cell_type": "code",
   "execution_count": 38,
   "metadata": {},
   "outputs": [
    {
     "data": {
      "text/plain": [
       "array([[<AxesSubplot:title={'center':'0.0'}>,\n",
       "        <AxesSubplot:title={'center':'1.0'}>]], dtype=object)"
      ]
     },
     "execution_count": 38,
     "metadata": {},
     "output_type": "execute_result"
    },
    {
     "data": {
      "image/png": "[encoded data removed]",
      "text/plain": [
       "<Figure size 432x288 with 2 Axes>"
      ]
     },
     "metadata": {
      "needs_background": "light"
     },
     "output_type": "display_data"
    }
   ],
   "source": [
    "unique_cases.reset_index().pivot('index','is_covid','age').hist()"
   ]
  },
  {
   "cell_type": "code",
   "execution_count": 32,
   "metadata": {},
   "outputs": [
    {
     "data": {
      "text/plain": [
       "<AxesSubplot:xlabel='is_covid'>"
      ]
     },
     "execution_count": 32,
     "metadata": {},
     "output_type": "execute_result"
    },
    {
     "data": {
      "image/png": "[encoded data removed]",
      "text/plain": [
       "<Figure size 432x288 with 1 Axes>"
      ]
     },
     "metadata": {
      "needs_background": "light"
     },
     "output_type": "display_data"
    }
   ],
   "source": [
    "unique_cases.groupby('is_covid')['age'].mean().plot(kind='bar')"
   ]
  },
  {
   "cell_type": "markdown",
   "metadata": {},
   "source": [
    "## Step 7. Offset (number of days it took to present at hospital), breakdown by COVID incidence"
   ]
  },
  {
   "cell_type": "code",
   "execution_count": 39,
   "metadata": {},
   "outputs": [
    {
     "data": {
      "text/plain": [
       "<AxesSubplot:xlabel='is_covid'>"
      ]
     },
     "execution_count": 39,
     "metadata": {},
     "output_type": "execute_result"
    },
    {
     "data": {
      "image/png": "[encoded data removed]",
      "text/plain": [
       "<Figure size 432x288 with 1 Axes>"
      ]
     },
     "metadata": {
      "needs_background": "light"
     },
     "output_type": "display_data"
    }
   ],
   "source": [
    "unique_cases.groupby('is_covid')['offset'].mean().plot(kind='bar')"
   ]
  },
  {
   "cell_type": "markdown",
   "metadata": {},
   "source": [
    "## Step 8. Survival distribution, breakdown by COVID"
   ]
  },
  {
   "cell_type": "code",
   "execution_count": 40,
   "metadata": {},
   "outputs": [
    {
     "data": {
      "text/plain": [
       "Y    109\n",
       "N     26\n",
       "Name: survival, dtype: int64"
      ]
     },
     "execution_count": 40,
     "metadata": {},
     "output_type": "execute_result"
    }
   ],
   "source": [
    "unique_cases.survival.value_counts()"
   ]
  },
  {
   "cell_type": "code",
   "execution_count": 43,
   "metadata": {},
   "outputs": [
    {
     "data": {
      "text/plain": [
       "<AxesSubplot:xlabel='is_covid', ylabel='count'>"
      ]
     },
     "execution_count": 43,
     "metadata": {},
     "output_type": "execute_result"
    },
    {
     "data": {
      "image/png": "[encoded data removed]",
      "text/plain": [
       "<Figure size 432x288 with 1 Axes>"
      ]
     },
     "metadata": {
      "needs_background": "light"
     },
     "output_type": "display_data"
    }
   ],
   "source": [
    "sns.countplot(data=unique_cases,x='is_covid',hue='survival')"
   ]
  },
  {
   "cell_type": "markdown",
   "metadata": {},
   "source": [
    "## Step 9. Location of cases"
   ]
  },
  {
   "cell_type": "code",
   "execution_count": 49,
   "metadata": {},
   "outputs": [
    {
     "data": {
      "text/plain": [
       "Hannover Medical School, Hannover, Germany                                         71\n",
       "Italy                                                                              51\n",
       "Melbourne, Australia                                                               27\n",
       "United Kingdom                                                                     13\n",
       "Hong Kong                                                                          12\n",
       "Wenzhou, China                                                                     10\n",
       "Spain                                                                               8\n",
       "Brescia, Italy                                                                      7\n",
       "Humanitas Clinical and Research Hospital, Rozzano, Milan, Italy                     6\n",
       "Nottingham, United Kingdom                                                          6\n",
       "Wuhan, China                                                                        5\n",
       "Mount Sinai Hospital, Toronto, Ontario, Canada                                      5\n",
       "China                                                                               5\n",
       "Edinburgh, United Kingdom                                                           5\n",
       "Australia                                                                           5\n",
       "South Korea                                                                         5\n",
       "Tehran, Iran                                                                        4\n",
       "Valencia, Spain                                                                     4\n",
       "Hungary                                                                             4\n",
       "Portugal                                                                            4\n",
       "Milan, Italy                                                                        4\n",
       "Alexandria, Egypt                                                                   4\n",
       "Rome, Italy                                                                         4\n",
       "Tabriz, Iran                                                                        3\n",
       "Teruel, Spain                                                                       3\n",
       "Malta                                                                               3\n",
       "Iran                                                                                3\n",
       "Pakistan                                                                            3\n",
       "Adelaide, Australia                                                                 3\n",
       "California, United States                                                           3\n",
       "Taiwan                                                                              3\n",
       "Prince of Wales Hospital, Chinese University of Hong Kong, China                    3\n",
       "Centro Hospitalar Universitário do Porto, Porto, Portugal                           3\n",
       "Singapore                                                                           3\n",
       "Karachi, Pakistan                                                                   3\n",
       "Hangzhou, China                                                                     2\n",
       "Padova, Italy                                                                       2\n",
       "Belgium                                                                             2\n",
       "Guatemala, Guatemala                                                                2\n",
       "Oklahoma, United States                                                             2\n",
       "Complejo Hospitalario de Navarra, Pamplona, Spain                                   2\n",
       "Hospital of Wuhan University, Wuhan, China                                          2\n",
       "New Brunswick, New Jersey, United States                                            2\n",
       "Doha, Qatar                                                                         2\n",
       "Ospedale Santo Spirito. Rome, Italy                                                 2\n",
       "Hospital Universitario Severo Ochoa, Madrid, Spain                                  2\n",
       "Greece                                                                              2\n",
       "Turin, Italy                                                                        2\n",
       "The First Affiliated Hospital of Anhui Medical University, Hefei, Anhui, China      2\n",
       "University of California Irvine, Orange, California, United States                  2\n",
       "Saudi Arabia                                                                        2\n",
       "United Kingdom                                                                      2\n",
       "Tokyo, Japan                                                                        2\n",
       "Barcelona, Spain                                                                    2\n",
       "Laniado Hospital, Netanya, Israel                                                   2\n",
       "Brisbane, Australia                                                                 2\n",
       "Taichung, Taiwan                                                                    2\n",
       "Glasgow, United Kingdom                                                             2\n",
       "Royal Brisbane and Women's Hospital, Brisbane, Australia                            2\n",
       "Riccione, Italy                                                                     2\n",
       "San Lazaro Hospital, Manila, Philippines                                            2\n",
       "Changhua Christian Hospital, Changhua City, Taiwan                                  1\n",
       "Hospital Universitari Vall d'Hebrón, Barcelona, Spain                               1\n",
       "Myongji Hospital, Goyang, South Korea                                               1\n",
       "Cairo, Egypt                                                                        1\n",
       "Jiangxi Provincial People's Hospital, Nanchang, China                               1\n",
       "Valladolid, Spain                                                                   1\n",
       "Murcia, Spain                                                                       1\n",
       "Netanya, Israel                                                                     1\n",
       "Zahedan, Iran                                                                       1\n",
       "Houston, United States                                                              1\n",
       "Chicago, United States                                                              1\n",
       "North Derbyshire, United Kingdom                                                    1\n",
       "Macao, China                                                                        1\n",
       "Boca Raton, Florida , United States                                                 1\n",
       "London, United Kingdom                                                              1\n",
       "Calgary, Canada                                                                     1\n",
       "GZA Sint-Augustinus, Antwerp, Belgium                                               1\n",
       "Kabul, Afghanistan                                                                  1\n",
       "Hospital Universitario Doctor Peset, Valencia, Spain                                1\n",
       "Centro Médico Imbanaco, Cali, Valle del Cauca, Colombia                             1\n",
       "Snohomish County, Washington, United States                                         1\n",
       "Sudbury, Canada                                                                     1\n",
       "New York, United States                                                             1\n",
       "Moscow, Russia                                                                      1\n",
       "Izmir, Turkey                                                                       1\n",
       "Evangelismos General Hospital of Athens, Athens, Greece                             1\n",
       "Kedah, Malaysia                                                                     1\n",
       "Philadelphia, Pennsylvania, United States                                           1\n",
       "Adelaide, Australia                                                                 1\n",
       "Hospital Hollabrunn, Hollabrunn, Austria                                            1\n",
       "Irbid, Jordan                                                                       1\n",
       "Huntington, New York, United States                                                 1\n",
       "Thailand                                                                            1\n",
       "Sydney, Australia                                                                   1\n",
       "Austria                                                                             1\n",
       "Tongji Medical College, Wuhan, Hubei Province, China                                1\n",
       "Thanh Hóa, Vietnam                                                                  1\n",
       "Coimbra, Portugal                                                                   1\n",
       "Taoyuan General Hospital, Taoyuan, Taiwan                                           1\n",
       "Sunnybrook Health Sciences Centre, Toronto, Ontario, Canada                         1\n",
       "Hospital Universitario, Madrid, Spain                                               1\n",
       "Civili Hospital, Vigevano, Italy                                                    1\n",
       "Kyiv, Ukraine                                                                       1\n",
       "Essen, Germany                                                                      1\n",
       "Trieste, Italy                                                                      1\n",
       "Santa Rosa, Brazil                                                                  1\n",
       "Shanghai Public Health Clinical Center, Shanghai, China                             1\n",
       "Orange, California, United States                                                   1\n",
       "Augusta, Georgia, United States                                                     1\n",
       "Sichuan Provincial People’s Hospital, Chengdu, China                                1\n",
       "Cho Ray Hospital, Ho Chi Minh City, Vietnam                                         1\n",
       "Abha, Saudi Arabia                                                                  1\n",
       "The First Hospital of Lanzhou University, Lanzhou, China                            1\n",
       "Turkey                                                                              1\n",
       "Amman, Jordan                                                                       1\n",
       "Riccione, Italy                                                                     1\n",
       "Little Rock, Arkansas, United States                                                1\n",
       "Ospedale di Cattinara, Trieste, Italy                                               1\n",
       "Birmingham, United Kingdom                                                          1\n",
       "Jonkoping, Sweden                                                                   1\n",
       "Viborg, Denmark                                                                     1\n",
       "Hospital de São José, Portugal                                                      1\n",
       "Jinling Hospital, Medical School of Nanjing University, Nanjing, Jiangsu, China     1\n",
       "Zigong, China                                                                       1\n",
       "Wuhan Jinyintan Hospital, Wuhan, Hubei Province, China                              1\n",
       "Qatif, Saudi Arabia                                                                 1\n",
       "RIPAS Hospital, Brunei, New Zealand                                                 1\n",
       "Al Hasa, Saudi Arabia                                                               1\n",
       "The Royal Melbourne Hospital, Melbourne, Australia                                  1\n",
       "Eskisehir, Turkey                                                                   1\n",
       "Argentina                                                                           1\n",
       "Cleveland, Ohio, United States                                                      1\n",
       "Seattle, United States                                                              1\n",
       "Peshawar, Pakistan                                                                  1\n",
       "Nagoya, Japan                                                                       1\n",
       "Modena, Italy                                                                       1\n",
       "Florida, United States                                                              1\n",
       "Germany                                                                             1\n",
       "Bozen, Italy                                                                        1\n",
       "Vivantes Klinikum Neukölln, Berlin, Germany                                         1\n",
       "Shanghai, China                                                                     1\n",
       "Canterbury, United Kingdom                                                          1\n",
       "Name: location, dtype: int64"
      ]
     },
     "execution_count": 49,
     "metadata": {},
     "output_type": "execute_result"
    }
   ],
   "source": [
    "unique_cases.location.value_counts()"
   ]
  },
  {
   "cell_type": "markdown",
   "metadata": {},
   "source": [
    "## Step 10. Peek at clinical notes"
   ]
  },
  {
   "cell_type": "code",
   "execution_count": 58,
   "metadata": {},
   "outputs": [
    {
     "data": {
      "text/plain": [
       "924    Shortness of breath, fever and rigors Opacity projected behind the heart on the PA radiograph with loss of visualization of the left hemidiaphragm consistent with collapse / consolidation throughout the left lower lobe.  Small focus of linear atelectasis in the left costophrenic recess region.  Right lung and pleural space are clear.  Normal cardiomediastinal contour.  Cholecystectomy clips noted. Typical chest radiograph appearance of left lower lobe pneumonia with collapse / consolidation.\n",
       "Name: clinical_notes, dtype: object"
      ]
     },
     "execution_count": 58,
     "metadata": {},
     "output_type": "execute_result"
    }
   ],
   "source": [
    "unique_cases.clinical_notes.sample()"
   ]
  },
  {
   "cell_type": "markdown",
   "metadata": {},
   "source": [
    "## Next Steps: Image analysis"
   ]
  },
  {
   "cell_type": "code",
   "execution_count": 62,
   "metadata": {},
   "outputs": [
    {
     "data": {
      "text/plain": [
       "PA           344\n",
       "AP Supine    234\n",
       "AP           203\n",
       "L             84\n",
       "Axial         68\n",
       "Coronal       16\n",
       "AP Erect       1\n",
       "Name: view, dtype: int64"
      ]
     },
     "execution_count": 62,
     "metadata": {},
     "output_type": "execute_result"
    }
   ],
   "source": [
    "covid_metadata.view.value_counts()"
   ]
  },
  {
   "cell_type": "code",
   "execution_count": null,
   "metadata": {},
   "outputs": [],
   "source": []
  }
 ],
 "metadata": {
  "kernelspec": {
   "display_name": "Python 3",
   "language": "python",
   "name": "python3"
  },
  "language_info": {
   "codemirror_mode": {
    "name": "ipython",
    "version": 3
   },
   "file_extension": ".py",
   "mimetype": "text/x-python",
   "name": "python",
   "nbconvert_exporter": "python",
   "pygments_lexer": "ipython3",
   "version": "3.8.5"
  }
 },
 "nbformat": 4,
 "nbformat_minor": 4
}
